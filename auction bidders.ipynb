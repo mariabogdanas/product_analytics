{
 "cells": [
  {
   "cell_type": "code",
   "execution_count": 10,
   "metadata": {
    "collapsed": true
   },
   "outputs": [],
   "source": [
    "#from connectors import Impala\n",
    "import pandas as pd\n",
    "import matplotlib.pyplot as plt\n",
    "import seaborn as sns"
   ]
  },
  {
   "cell_type": "code",
   "execution_count": null,
   "outputs": [],
   "source": [
    "#impala = Impala()"
   ],
   "metadata": {
    "collapsed": false,
    "pycharm": {
     "is_executing": true
    }
   }
  },
  {
   "cell_type": "code",
   "execution_count": 170,
   "outputs": [],
   "source": [
    "query = '''\n",
    "select nvl(a.country, 'N/D') as country,\n",
    "       l.lot,\n",
    "       count(distinct l.id) as n_total_bidders,\n",
    "       sum(l.cr_bidder) as n_cr_bidders,\n",
    "       sum(l.bid) as total_bids_sum,\n",
    "       sum(l.winner) as n_total_winners\n",
    "  from (\n",
    "        select id,\n",
    "               lot,\n",
    "               sum(case when action = 'placebid'\n",
    "                   then cast(bid as int)\n",
    "                   when action = 'cancelbid'\n",
    "                   then -1 * cast(bid as int)\n",
    "                   else 0 end ) as final_bid_size,\n",
    "               max(if(currency like '%cr%', 1, 0)) as cr_bidder,\n",
    "               max(if(action = 'win', 1, 0)) as winner\n",
    "          from dataset1\n",
    "         where dt between 'yyyy-mm-dd' and 'yyyy-mm-dd'\n",
    "           and invoice = 1\n",
    "           and status = \"Completed\"\n",
    "         group by id,\n",
    "                  lot\n",
    "       ) l\n",
    "  left join (\n",
    "             select distinct id as spa, value as country\n",
    "               from dataset2\n",
    "              where name = 'country'\n",
    "  ) a\n",
    "    on a.spa = l.id\n",
    " group by nvl(a.country, 'N/D'),\n",
    "          l.lot\n",
    " order by 2, 1\n",
    "\n",
    "'''"
   ],
   "metadata": {
    "collapsed": false
   }
  },
  {
   "cell_type": "code",
   "execution_count": null,
   "outputs": [],
   "source": [
    "#data = impala.fetch(query)"
   ],
   "metadata": {
    "collapsed": false,
    "pycharm": {
     "is_executing": true
    }
   }
  },
  {
   "cell_type": "code",
   "execution_count": null,
   "outputs": [],
   "source": [
    "data.loc[:, 'mean_bid'] = data.total_bids_sum / data.n_total_bidders\n",
    "data.loc[:, 'winners_share'] = data.n_total_winners / data.n_total_bidders\n",
    "data.to_excel('statistics.xlsx')\n",
    "#data"
   ],
   "metadata": {
    "collapsed": false,
    "pycharm": {
     "is_executing": true
    }
   }
  },
  {
   "cell_type": "code",
   "execution_count": null,
   "outputs": [],
   "source": [
    "#data.lot.unique()"
   ],
   "metadata": {
    "collapsed": false,
    "pycharm": {
     "is_executing": true
    }
   }
  },
  {
   "cell_type": "code",
   "execution_count": 175,
   "outputs": [],
   "source": [
    "data1 = data.loc[data.n_total_bidders >= 10]"
   ],
   "metadata": {
    "collapsed": false
   }
  },
  {
   "cell_type": "code",
   "execution_count": null,
   "outputs": [],
   "source": [
    "fig, axs = plt.subplots(5, figsize = [25, 25])\n",
    "axs[0].bar(data1.loc[data1.lot == '1'].sort_values(by=['n_total_bidders'], ascending=False)['country'],\n",
    "           data1.loc[data1.lot == '1'].sort_values(by=['n_total_bidders'], ascending=False)['n_total_bidders'], color = 'grey', label='1', width=0.8)\n",
    "axs[0].bar(data1.loc[((data1.lot == '1')&(data1.country == 'KR'))].sort_values(by=['n_total_bidders'], ascending=False)['country'],\n",
    "           data1.loc[((data1.lot == '1')&(data1.country == 'KR'))].sort_values(by=['n_total_bidders'], ascending=False)['n_total_bidders'], color = 'red',width=0.8)\n",
    "\n",
    "axs[1].bar(data1.loc[data1.lot == '\"2\"'].sort_values(by=['n_total_bidders'], ascending=False)['country'],\n",
    "           data1.loc[data1.lot == '\"2\"'].sort_values(by=['n_total_bidders'], ascending=False)['n_total_bidders'], color = 'grey', label='2', width=0.8)\n",
    "\n",
    "axs[2].bar(data1.loc[data1.lot == '\"3\"'].sort_values(by=['n_total_bidders'], ascending=False)['country'],\n",
    "           data1.loc[data1.lot == '\"3\"'].sort_values(by=['n_total_bidders'], ascending=False)['n_total_bidders'], color = 'grey', label='3', width=0.8)\n",
    "axs[2].bar(data1.loc[((data1.lot == '\"3\"')&(data1.country == 'KR'))].sort_values(by=['n_total_bidders'], ascending=False)['country'],\n",
    "           data1.loc[((data1.lot == '\"3\"')&(data1.country == 'KR'))].sort_values(by=['n_total_bidders'], ascending=False)['n_total_bidders'], color = 'red',  width=0.8)\n",
    "\n",
    "axs[3].bar(data1.loc[data1.lot == '\"4\"'].sort_values(by=['n_total_bidders'], ascending=False)['country'],\n",
    "           data1.loc[data1.lot == '\"4\"'].sort_values(by=['n_total_bidders'], ascending=False)['n_total_bidders'], color = 'grey', label='4', width=0.8)\n",
    "axs[3].bar(data1.loc[((data1.lot == '\"4\"')&(data1.country == 'KR'))].sort_values(by=['n_total_bidders'], ascending=False)['country'],\n",
    "           data1.loc[((data1.lot == '\"4\"')&(data1.country == 'KR'))].sort_values(by=['n_total_bidders'], ascending=False)['n_total_bidders'], color = 'red', width=0.8)\n",
    "\n",
    "axs[4].bar(data1.loc[data1.lot == '\"5\"'].sort_values(by=['n_total_bidders'], ascending=False)['country'],\n",
    "           data1.loc[data1.lot == '\"5\"'].sort_values(by=['n_total_bidders'], ascending=False)['n_total_bidders'], color = 'grey', label='5', width=0.8)\n",
    "axs[4].bar(data1.loc[((data1.lot == '\"5\"')&(data1.country == 'KR'))].sort_values(by=['n_total_bidders'], ascending=False)['country'],\n",
    "           data1.loc[((data1.lot == '\"5\"')&(data1.country == 'KR'))].sort_values(by=['n_total_bidders'], ascending=False)['n_total_bidders'], color = 'red', width=0.8)\n",
    "\n",
    "axs[0].set_title('Number of bidders by countries and lots', fontsize=20)\n",
    "plt.xlabel(\"Country\", fontsize=18)\n",
    "axs[0].set_ylabel('Number of bidders', fontsize=16)\n",
    "axs[1].set_ylabel('Number of bidders', fontsize=16)\n",
    "axs[2].set_ylabel('Number of bidders', fontsize=16)\n",
    "axs[3].set_ylabel('Number of bidders', fontsize=16)\n",
    "axs[4].set_ylabel('Number of bidders', fontsize=16)\n",
    "axs[0].legend(loc ='upper right', fontsize=16)\n",
    "axs[1].legend(loc ='upper right', fontsize=16)\n",
    "axs[2].legend(loc ='upper right', fontsize=16)\n",
    "axs[3].legend(loc ='upper right', fontsize=16)\n",
    "axs[4].legend(loc ='upper right', fontsize=16)\n",
    "axs[0].set_ylim(0, 7000)\n",
    "axs[1].set_ylim(0, 22000)\n",
    "axs[2].set_ylim(0, 500)\n",
    "axs[3].set_ylim(0, 350)\n",
    "axs[4].set_ylim(0, 2000)\n",
    "axs[0].bar_label(axs[0].containers[0], padding=7, fontsize=10)\n",
    "axs[1].bar_label(axs[1].containers[0], padding=7, fontsize=10)\n",
    "axs[2].bar_label(axs[2].containers[0], padding=7, fontsize=10)\n",
    "axs[3].bar_label(axs[3].containers[0], padding=7, fontsize=10)\n",
    "axs[4].bar_label(axs[4].containers[0], padding=7, fontsize=10)\n",
    "axs[0].tick_params(axis='x', labelsize=14)\n",
    "axs[1].tick_params(axis='x', labelsize=14)\n",
    "axs[2].tick_params(axis='x', labelsize=14)\n",
    "axs[3].tick_params(axis='x', labelsize=14)\n",
    "axs[3].tick_params(axis='x', labelsize=14)\n",
    "axs[0].tick_params(axis='y', labelsize=14)\n",
    "axs[1].tick_params(axis='y', labelsize=14)\n",
    "axs[2].tick_params(axis='y', labelsize=14)\n",
    "axs[3].tick_params(axis='y', labelsize=14)\n",
    "axs[4].tick_params(axis='y', labelsize=14)\n"
   ],
   "metadata": {
    "collapsed": false,
    "pycharm": {
     "is_executing": true
    }
   }
  },
  {
   "cell_type": "code",
   "execution_count": 13,
   "outputs": [
    {
     "data": {
      "text/plain": "<Figure size 432x288 with 1 Axes>",
      "image/png": "[encoded data removed]"
     },
     "metadata": {},
     "output_type": "display_data"
    }
   ],
   "source": [
    "img = plt.imread('barchart1.png')\n",
    "plt.imshow(img)\n",
    "plt.show()"
   ],
   "metadata": {
    "collapsed": false
   }
  },
  {
   "cell_type": "code",
   "execution_count": null,
   "outputs": [],
   "source": [
    "fig, axs = plt.subplots(4, figsize = [25, 20])\n",
    "axs[0].bar(data.loc[data.lot == '\"1\"'].sort_values(by=['mean_bid'], ascending=False)['country'],\n",
    "           data.loc[data.lot == '\"1\"'].sort_values(by=['mean_bid'], ascending=False)['mean_bid'], color = 'grey', label='1', width=0.8)\n",
    "axs[0].bar(data.loc[((data.lot == '\"1\"')&(data.country == 'KR'))].sort_values(by=['mean_bid'], ascending=False)['country'],\n",
    "           data.loc[((data.lot == '\"1\"')&(data.country == 'KR'))].sort_values(by=['mean_bid'], ascending=False)['mean_bid'], color = 'red',width=0.8)\n",
    "\n",
    "axs[1].bar(data.loc[data.lot == '\"2\"'].sort_values(by=['mean_bid'], ascending=False)['country'],\n",
    "           data.loc[data.lot == '\"2\"'].sort_values(by=['mean_bid'], ascending=False)['mean_bid'], color = 'grey', label='2', width=0.8)\n",
    "axs[1].bar(data.loc[((data.lot == '\"2\"')&(data.country == 'KR'))].sort_values(by=['mean_bid'], ascending=False)['country'],\n",
    "           data.loc[((data.lot == '\"2\"')&(data.country == 'KR'))].sort_values(by=['mean_bid'], ascending=False)['mean_bid'], color = 'red',  width=0.8)\n",
    "\n",
    "axs[2].bar(data.loc[data.lot == '\"3\"'].sort_values(by=['mean_bid'], ascending=False)['country'],\n",
    "           data.loc[data.lot == '\"3\"'].sort_values(by=['mean_bid'], ascending=False)['mean_bid'], color = 'grey', label='3', width=0.8)\n",
    "axs[2].bar(data.loc[((data.lot == '\"3\"')&(data.country == 'KR'))].sort_values(by=['mean_bid'], ascending=False)['country'],\n",
    "           data.loc[((data.lot == '\"3\"')&(data.country == 'KR'))].sort_values(by=['mean_bid'], ascending=False)['mean_bid'], color = 'red', width=0.8)\n",
    "\n",
    "axs[3].bar(data.loc[data.lot == '\"4\"'].sort_values(by=['mean_bid'], ascending=False)['country'],\n",
    "           data.loc[data.lot == '\"4\"'].sort_values(by=['mean_bid'], ascending=False)['mean_bid'], color = 'grey', label='4', width=0.8)\n",
    "axs[3].bar(data.loc[((data.lot == '\"4\"')&(data.country == 'KR'))].sort_values(by=['mean_bid'], ascending=False)['country'],\n",
    "           data.loc[((data.lot == '\"4\"')&(data.country == 'KR'))].sort_values(by=['mean_bid'], ascending=False)['mean_bid'], color = 'red', width=0.8)\n",
    "\n",
    "axs[0].set_title('Average bid size in bid currency by countries and lots', fontsize=20)\n",
    "plt.xlabel(\"Country\", fontsize=18)\n",
    "axs[0].set_ylabel('Average bid size', fontsize=16)\n",
    "axs[1].set_ylabel('Average bid size', fontsize=16)\n",
    "axs[2].set_ylabel('Average bid size', fontsize=16)\n",
    "axs[3].set_ylabel('Average bid size', fontsize=16)\n",
    "axs[0].legend(loc ='upper right', fontsize=16)\n",
    "axs[1].legend(loc ='upper right', fontsize=16)\n",
    "axs[2].legend(loc ='upper right', fontsize=16)\n",
    "axs[3].legend(loc ='upper right', fontsize=16)\n",
    "axs[0].tick_params(axis='x', labelsize=14)\n",
    "axs[1].tick_params(axis='x', labelsize=14)\n",
    "axs[2].tick_params(axis='x', labelsize=14)\n",
    "axs[3].tick_params(axis='x', labelsize=14)\n",
    "axs[1].tick_params(axis='y', labelsize=14)\n",
    "axs[2].tick_params(axis='y', labelsize=14)\n",
    "axs[3].tick_params(axis='y', labelsize=14)"
   ],
   "metadata": {
    "collapsed": false,
    "pycharm": {
     "is_executing": true
    }
   }
  },
  {
   "cell_type": "code",
   "execution_count": 14,
   "outputs": [
    {
     "data": {
      "text/plain": "<Figure size 432x288 with 1 Axes>",
      "image/png": "[encoded data removed]"
     },
     "metadata": {},
     "output_type": "display_data"
    }
   ],
   "source": [
    "img = plt.imread('barchart2.png')\n",
    "plt.imshow(img)\n",
    "plt.show()"
   ],
   "metadata": {
    "collapsed": false
   }
  },
  {
   "cell_type": "code",
   "execution_count": null,
   "outputs": [],
   "source": [],
   "metadata": {
    "collapsed": false
   }
  }
 ],
 "metadata": {
  "kernelspec": {
   "display_name": "Python 3",
   "language": "python",
   "name": "python3"
  },
  "language_info": {
   "codemirror_mode": {
    "name": "ipython",
    "version": 2
   },
   "file_extension": ".py",
   "mimetype": "text/x-python",
   "name": "python",
   "nbconvert_exporter": "python",
   "pygments_lexer": "ipython2",
   "version": "2.7.6"
  }
 },
 "nbformat": 4,
 "nbformat_minor": 0
}
